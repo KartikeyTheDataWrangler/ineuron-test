{
 "cells": [
  {
   "cell_type": "code",
   "execution_count": 1,
   "metadata": {},
   "outputs": [],
   "source": [
    "import tensorflow\n",
    "from tensorflow import keras\n",
    "from tensorflow.keras import Sequential\n",
    "from tensorflow.keras.layers import Dense,Flatten"
   ]
  },
  {
   "cell_type": "code",
   "execution_count": 2,
   "metadata": {},
   "outputs": [
    {
     "name": "stdout",
     "output_type": "stream",
     "text": [
      "Downloading data from https://storage.googleapis.com/tensorflow/tf-keras-datasets/mnist.npz\n",
      "11490434/11490434 [==============================] - 4s 0us/step\n"
     ]
    }
   ],
   "source": [
    "(X_train,y_train),(X_test,y_test) = keras.datasets.mnist.load_data()"
   ]
  },
  {
   "cell_type": "code",
   "execution_count": 3,
   "metadata": {},
   "outputs": [
    {
     "data": {
      "text/plain": [
       "(10000, 28, 28)"
      ]
     },
     "execution_count": 3,
     "metadata": {},
     "output_type": "execute_result"
    }
   ],
   "source": [
    "X_test.shape"
   ]
  },
  {
   "cell_type": "code",
   "execution_count": 4,
   "metadata": {},
   "outputs": [
    {
     "data": {
      "text/plain": [
       "<matplotlib.image.AxesImage at 0x1375b0f3460>"
      ]
     },
     "execution_count": 4,
     "metadata": {},
     "output_type": "execute_result"
    },
    {
     "data": {
      "image/png": "[encoded data removed]",
      "text/plain": [
       "<Figure size 640x480 with 1 Axes>"
      ]
     },
     "metadata": {},
     "output_type": "display_data"
    }
   ],
   "source": [
    "import matplotlib.pyplot as plt\n",
    "plt.imshow(X_train[2])"
   ]
  },
  {
   "cell_type": "code",
   "execution_count": 17,
   "metadata": {},
   "outputs": [],
   "source": [
    "model = Sequential()\n",
    "\n",
    "model.add(Flatten(input_shape=(28,28)))\n",
    "model.add(Dense(10,activation='relu'))\n",
    "#model.add(Dense(64,activation='relu'))\n",
    "model.add(Dense(10,activation='softmax'))"
   ]
  },
  {
   "cell_type": "code",
   "execution_count": 18,
   "metadata": {},
   "outputs": [
    {
     "name": "stdout",
     "output_type": "stream",
     "text": [
      "Model: \"sequential_5\"\n",
      "_________________________________________________________________\n",
      " Layer (type)                Output Shape              Param #   \n",
      "=================================================================\n",
      " flatten_5 (Flatten)         (None, 784)               0         \n",
      "                                                                 \n",
      " dense_12 (Dense)            (None, 10)                7850      \n",
      "                                                                 \n",
      " dense_13 (Dense)            (None, 10)                110       \n",
      "                                                                 \n",
      "=================================================================\n",
      "Total params: 7,960\n",
      "Trainable params: 7,960\n",
      "Non-trainable params: 0\n",
      "_________________________________________________________________\n"
     ]
    }
   ],
   "source": [
    "model.summary()"
   ]
  },
  {
   "cell_type": "code",
   "execution_count": 19,
   "metadata": {},
   "outputs": [],
   "source": [
    "model.compile(loss='sparse_categorical_crossentropy',optimizer='Adam',metrics=['accuracy'])"
   ]
  },
  {
   "cell_type": "code",
   "execution_count": 21,
   "metadata": {},
   "outputs": [
    {
     "name": "stdout",
     "output_type": "stream",
     "text": [
      "Epoch 1/50\n",
      "1500/1500 [==============================] - 4s 2ms/step - loss: 1.6182 - accuracy: 0.3951 - val_loss: 1.3966 - val_accuracy: 0.4852\n",
      "Epoch 2/50\n",
      "1500/1500 [==============================] - 5s 3ms/step - loss: 1.2856 - accuracy: 0.5163 - val_loss: 1.2300 - val_accuracy: 0.5300\n",
      "Epoch 3/50\n",
      "1500/1500 [==============================] - 4s 2ms/step - loss: 1.1141 - accuracy: 0.5773 - val_loss: 1.0461 - val_accuracy: 0.6321\n",
      "Epoch 4/50\n",
      "1500/1500 [==============================] - 3s 2ms/step - loss: 0.9493 - accuracy: 0.6693 - val_loss: 0.8693 - val_accuracy: 0.7278\n",
      "Epoch 5/50\n",
      "1500/1500 [==============================] - 4s 3ms/step - loss: 0.8003 - accuracy: 0.7509 - val_loss: 0.7303 - val_accuracy: 0.7987\n",
      "Epoch 6/50\n",
      "1500/1500 [==============================] - 5s 3ms/step - loss: 0.6847 - accuracy: 0.7959 - val_loss: 0.6394 - val_accuracy: 0.8125\n",
      "Epoch 7/50\n",
      "1500/1500 [==============================] - 4s 3ms/step - loss: 0.6057 - accuracy: 0.8209 - val_loss: 0.5759 - val_accuracy: 0.8355\n",
      "Epoch 8/50\n",
      "1500/1500 [==============================] - 3s 2ms/step - loss: 0.5377 - accuracy: 0.8439 - val_loss: 0.5203 - val_accuracy: 0.8543\n",
      "Epoch 9/50\n",
      "1500/1500 [==============================] - 3s 2ms/step - loss: 0.5105 - accuracy: 0.8527 - val_loss: 0.4902 - val_accuracy: 0.8645\n",
      "Epoch 10/50\n",
      "1500/1500 [==============================] - 3s 2ms/step - loss: 0.4946 - accuracy: 0.8584 - val_loss: 0.4907 - val_accuracy: 0.8675\n",
      "Epoch 11/50\n",
      "1500/1500 [==============================] - 4s 3ms/step - loss: 0.4874 - accuracy: 0.8609 - val_loss: 0.5082 - val_accuracy: 0.8584\n",
      "Epoch 12/50\n",
      "1500/1500 [==============================] - 4s 3ms/step - loss: 0.4869 - accuracy: 0.8627 - val_loss: 0.4920 - val_accuracy: 0.8603\n",
      "Epoch 13/50\n",
      "1500/1500 [==============================] - 3s 2ms/step - loss: 0.4797 - accuracy: 0.8635 - val_loss: 0.4873 - val_accuracy: 0.8696\n",
      "Epoch 14/50\n",
      "1500/1500 [==============================] - 3s 2ms/step - loss: 0.4717 - accuracy: 0.8646 - val_loss: 0.4655 - val_accuracy: 0.8724\n",
      "Epoch 15/50\n",
      "1500/1500 [==============================] - 3s 2ms/step - loss: 0.4720 - accuracy: 0.8662 - val_loss: 0.4933 - val_accuracy: 0.8693\n",
      "Epoch 16/50\n",
      "1500/1500 [==============================] - 3s 2ms/step - loss: 0.4643 - accuracy: 0.8671 - val_loss: 0.5034 - val_accuracy: 0.8703\n",
      "Epoch 17/50\n",
      "1500/1500 [==============================] - 3s 2ms/step - loss: 0.4624 - accuracy: 0.8669 - val_loss: 0.5019 - val_accuracy: 0.8619\n",
      "Epoch 18/50\n",
      "1500/1500 [==============================] - 5s 3ms/step - loss: 0.4641 - accuracy: 0.8679 - val_loss: 0.4781 - val_accuracy: 0.8752\n",
      "Epoch 19/50\n",
      "1500/1500 [==============================] - 4s 2ms/step - loss: 0.4586 - accuracy: 0.8690 - val_loss: 0.4807 - val_accuracy: 0.8698\n",
      "Epoch 20/50\n",
      "1500/1500 [==============================] - 3s 2ms/step - loss: 0.4604 - accuracy: 0.8674 - val_loss: 0.4774 - val_accuracy: 0.8700\n",
      "Epoch 21/50\n",
      "1500/1500 [==============================] - 3s 2ms/step - loss: 0.4623 - accuracy: 0.8683 - val_loss: 0.4669 - val_accuracy: 0.8740\n",
      "Epoch 22/50\n",
      "1500/1500 [==============================] - 4s 2ms/step - loss: 0.4539 - accuracy: 0.8710 - val_loss: 0.5057 - val_accuracy: 0.8626\n",
      "Epoch 23/50\n",
      "1500/1500 [==============================] - 5s 3ms/step - loss: 0.4564 - accuracy: 0.8694 - val_loss: 0.4808 - val_accuracy: 0.8714\n",
      "Epoch 24/50\n",
      "1500/1500 [==============================] - 5s 3ms/step - loss: 0.4482 - accuracy: 0.8725 - val_loss: 0.4909 - val_accuracy: 0.8681\n",
      "Epoch 25/50\n",
      "1500/1500 [==============================] - 4s 2ms/step - loss: 0.4484 - accuracy: 0.8709 - val_loss: 0.5007 - val_accuracy: 0.8611\n",
      "Epoch 26/50\n",
      "1500/1500 [==============================] - 4s 3ms/step - loss: 0.4458 - accuracy: 0.8719 - val_loss: 0.4826 - val_accuracy: 0.8715\n",
      "Epoch 27/50\n",
      "1500/1500 [==============================] - 4s 3ms/step - loss: 0.4494 - accuracy: 0.8728 - val_loss: 0.5309 - val_accuracy: 0.8572\n",
      "Epoch 28/50\n",
      "1500/1500 [==============================] - 4s 2ms/step - loss: 0.4453 - accuracy: 0.8736 - val_loss: 0.4822 - val_accuracy: 0.8714\n",
      "Epoch 29/50\n",
      "1500/1500 [==============================] - 4s 3ms/step - loss: 0.4404 - accuracy: 0.8740 - val_loss: 0.4910 - val_accuracy: 0.8739\n",
      "Epoch 30/50\n",
      "1500/1500 [==============================] - 3s 2ms/step - loss: 0.4363 - accuracy: 0.8736 - val_loss: 0.4848 - val_accuracy: 0.8651\n",
      "Epoch 31/50\n",
      "1500/1500 [==============================] - 3s 2ms/step - loss: 0.4312 - accuracy: 0.8759 - val_loss: 0.4848 - val_accuracy: 0.8771\n",
      "Epoch 32/50\n",
      "1500/1500 [==============================] - 3s 2ms/step - loss: 0.4265 - accuracy: 0.8794 - val_loss: 0.4705 - val_accuracy: 0.8763\n",
      "Epoch 33/50\n",
      "1500/1500 [==============================] - 3s 2ms/step - loss: 0.4294 - accuracy: 0.8768 - val_loss: 0.4763 - val_accuracy: 0.8732\n",
      "Epoch 34/50\n",
      "1500/1500 [==============================] - 3s 2ms/step - loss: 0.4284 - accuracy: 0.8766 - val_loss: 0.4707 - val_accuracy: 0.8792\n",
      "Epoch 35/50\n",
      "1500/1500 [==============================] - 4s 2ms/step - loss: 0.4225 - accuracy: 0.8780 - val_loss: 0.5005 - val_accuracy: 0.8717\n",
      "Epoch 36/50\n",
      "1500/1500 [==============================] - 5s 3ms/step - loss: 0.4251 - accuracy: 0.8784 - val_loss: 0.4770 - val_accuracy: 0.8720\n",
      "Epoch 37/50\n",
      "1500/1500 [==============================] - 5s 3ms/step - loss: 0.4222 - accuracy: 0.8790 - val_loss: 0.4980 - val_accuracy: 0.8648\n",
      "Epoch 38/50\n",
      "1500/1500 [==============================] - 3s 2ms/step - loss: 0.4172 - accuracy: 0.8802 - val_loss: 0.5019 - val_accuracy: 0.8573\n",
      "Epoch 39/50\n",
      "1500/1500 [==============================] - 3s 2ms/step - loss: 0.4215 - accuracy: 0.8801 - val_loss: 0.4773 - val_accuracy: 0.8733\n",
      "Epoch 40/50\n",
      "1500/1500 [==============================] - 4s 3ms/step - loss: 0.4174 - accuracy: 0.8809 - val_loss: 0.4732 - val_accuracy: 0.8752\n",
      "Epoch 41/50\n",
      "1500/1500 [==============================] - 5s 3ms/step - loss: 0.4136 - accuracy: 0.8822 - val_loss: 0.4840 - val_accuracy: 0.8677\n",
      "Epoch 42/50\n",
      "1500/1500 [==============================] - 5s 3ms/step - loss: 0.4158 - accuracy: 0.8813 - val_loss: 0.4926 - val_accuracy: 0.8725\n",
      "Epoch 43/50\n",
      "1500/1500 [==============================] - 4s 2ms/step - loss: 0.4127 - accuracy: 0.8809 - val_loss: 0.5061 - val_accuracy: 0.8587\n",
      "Epoch 44/50\n",
      "1500/1500 [==============================] - 4s 3ms/step - loss: 0.4047 - accuracy: 0.8824 - val_loss: 0.4728 - val_accuracy: 0.8763\n",
      "Epoch 45/50\n",
      "1500/1500 [==============================] - 3s 2ms/step - loss: 0.4106 - accuracy: 0.8832 - val_loss: 0.4787 - val_accuracy: 0.8735\n",
      "Epoch 46/50\n",
      "1500/1500 [==============================] - 4s 3ms/step - loss: 0.4052 - accuracy: 0.8845 - val_loss: 0.4926 - val_accuracy: 0.8733\n",
      "Epoch 47/50\n",
      "1500/1500 [==============================] - 4s 3ms/step - loss: 0.4100 - accuracy: 0.8814 - val_loss: 0.4659 - val_accuracy: 0.8728\n",
      "Epoch 48/50\n",
      "1500/1500 [==============================] - 3s 2ms/step - loss: 0.4038 - accuracy: 0.8840 - val_loss: 0.4891 - val_accuracy: 0.8708\n",
      "Epoch 49/50\n",
      "1500/1500 [==============================] - 3s 2ms/step - loss: 0.4066 - accuracy: 0.8831 - val_loss: 0.4791 - val_accuracy: 0.8748\n",
      "Epoch 50/50\n",
      "1500/1500 [==============================] - 3s 2ms/step - loss: 0.4018 - accuracy: 0.8838 - val_loss: 0.4903 - val_accuracy: 0.8749\n"
     ]
    }
   ],
   "source": [
    "history = model.fit(X_train,y_train,epochs=50,validation_split=0.2)"
   ]
  },
  {
   "cell_type": "code",
   "execution_count": 24,
   "metadata": {},
   "outputs": [
    {
     "name": "stdout",
     "output_type": "stream",
     "text": [
      "313/313 [==============================] - 0s 1ms/step\n"
     ]
    }
   ],
   "source": [
    "y_prob = model.predict(X_test)\n",
    "y_pred = y_prob.argmax(axis=1)"
   ]
  },
  {
   "cell_type": "code",
   "execution_count": 25,
   "metadata": {},
   "outputs": [
    {
     "data": {
      "text/plain": [
       "0.8763"
      ]
     },
     "execution_count": 25,
     "metadata": {},
     "output_type": "execute_result"
    }
   ],
   "source": [
    "from sklearn.metrics import accuracy_score\n",
    "accuracy_score(y_test,y_pred)"
   ]
  },
  {
   "cell_type": "code",
   "execution_count": 26,
   "metadata": {},
   "outputs": [
    {
     "data": {
      "text/plain": [
       "[<matplotlib.lines.Line2D at 0x13761b24a00>]"
      ]
     },
     "execution_count": 26,
     "metadata": {},
     "output_type": "execute_result"
    },
    {
     "data": {
      "image/png": "[encoded data removed]",
      "text/plain": [
       "<Figure size 640x480 with 1 Axes>"
      ]
     },
     "metadata": {},
     "output_type": "display_data"
    }
   ],
   "source": [
    "plt.plot(history.history['loss'])\n",
    "plt.plot(history.history['val_loss'])"
   ]
  },
  {
   "cell_type": "code",
   "execution_count": 27,
   "metadata": {},
   "outputs": [
    {
     "name": "stdout",
     "output_type": "stream",
     "text": [
      "1/1 [==============================] - 0s 31ms/step\n"
     ]
    },
    {
     "data": {
      "text/plain": [
       "array([2], dtype=int64)"
      ]
     },
     "execution_count": 27,
     "metadata": {},
     "output_type": "execute_result"
    }
   ],
   "source": [
    "model.predict(X_test[1].reshape(1,28,28)).argmax(axis=1)"
   ]
  },
  {
   "cell_type": "code",
   "execution_count": null,
   "metadata": {},
   "outputs": [],
   "source": []
  }
 ],
 "metadata": {
  "kernelspec": {
   "display_name": "mldl",
   "language": "python",
   "name": "python3"
  },
  "language_info": {
   "codemirror_mode": {
    "name": "ipython",
    "version": 3
   },
   "file_extension": ".py",
   "mimetype": "text/x-python",
   "name": "python",
   "nbconvert_exporter": "python",
   "pygments_lexer": "ipython3",
   "version": "3.10.8"
  }
 },
 "nbformat": 4,
 "nbformat_minor": 2
}
